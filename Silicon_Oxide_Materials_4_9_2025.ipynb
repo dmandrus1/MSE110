{
 "cells": [
  {
   "cell_type": "markdown",
   "id": "5ce727b7-39e3-436a-87be-8cd737d8ae00",
   "metadata": {},
   "source": [
    "Program works 9 April 2025"
   ]
  },
  {
   "cell_type": "code",
   "execution_count": null,
   "id": "4ed8aa05-c33d-4d4e-97bf-b1f9de335436",
   "metadata": {
    "tags": []
   },
   "outputs": [],
   "source": [
    "from mp_api.client import MPRester\n",
    "import matplotlib.pyplot as plt\n",
    "import pandas as pd\n",
    "\n",
    "# Connect to Materials Project with API key\n",
    "with MPRester(\"Your API Key Goes Here\") as mpr:\n",
    "    # Query for Si-O materials and get specific properties\n",
    "    docs = mpr.materials.summary.search(\n",
    "        chemsys=\"Si-O\", \n",
    "        fields=[\"material_id\", \"band_gap\", \"formation_energy_per_atom\", \"volume\"]\n",
    "    )\n",
    "    \n",
    "    # Convert results to pandas DataFrame for easier analysis\n",
    "    data = {\n",
    "        \"material_id\": [doc.material_id for doc in docs],\n",
    "        \"band_gap\": [doc.band_gap for doc in docs],\n",
    "        \"formation_energy\": [doc.formation_energy_per_atom for doc in docs],\n",
    "        \"volume\": [doc.volume for doc in docs]\n",
    "    }\n",
    "    df = pd.DataFrame(data)\n",
    "    \n",
    "    # Create scatter plot\n",
    "    plt.figure(figsize=(10, 6))\n",
    "    plt.scatter(df[\"formation_energy\"], df[\"band_gap\"], alpha=0.7)\n",
    "    plt.xlabel(\"Formation Energy (eV/atom)\")\n",
    "    plt.ylabel(\"Band Gap (eV)\")\n",
    "    plt.title(\"Band Gap vs. Formation Energy for Si-O Materials\")\n",
    "    plt.grid(True, alpha=0.3)\n",
    "    plt.savefig(\"band_gap_vs_formation_energy.png\")\n",
    "    plt.show()"
   ]
  },
  {
   "cell_type": "code",
   "execution_count": null,
   "id": "a9cf190f-af40-4f61-b43d-67627411c9fd",
   "metadata": {},
   "outputs": [],
   "source": []
  }
 ],
 "metadata": {
  "kernelspec": {
   "display_name": "Python 3 (ipykernel)",
   "language": "python",
   "name": "python3"
  },
  "language_info": {
   "codemirror_mode": {
    "name": "ipython",
    "version": 3
   },
   "file_extension": ".py",
   "mimetype": "text/x-python",
   "name": "python",
   "nbconvert_exporter": "python",
   "pygments_lexer": "ipython3",
   "version": "3.10.16"
  }
 },
 "nbformat": 4,
 "nbformat_minor": 5
}
