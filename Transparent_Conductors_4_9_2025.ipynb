{
 "cells": [
  {
   "cell_type": "markdown",
   "id": "898b7396-68bf-4048-97ff-353777753b14",
   "metadata": {},
   "source": [
    "Program works 9 April 2025"
   ]
  },
  {
   "cell_type": "code",
   "execution_count": null,
   "id": "aa4ca42c-162d-47b3-b5ba-777aad021c78",
   "metadata": {
    "tags": []
   },
   "outputs": [],
   "source": [
    "from mp_api.client import MPRester\n",
    "import matplotlib.pyplot as plt\n",
    "import pandas as pd\n",
    "\n",
    "# Connect to Materials Project with API key\n",
    "with MPRester(\"Your API Key Goes Here\") as mpr:\n",
    "    # Query for potential transparent conductor materials\n",
    "    # (wide band gap semiconductors with high electrical conductivity)\n",
    "    docs = mpr.materials.summary.search(\n",
    "        band_gap=(3.0, None),  # Band gap > 3.0 eV for optical transparency\n",
    "        fields=[\"material_id\", \"formula_pretty\", \"band_gap\", \"energy_above_hull\"]\n",
    "    )\n",
    "    \n",
    "    # Convert results to pandas DataFrame\n",
    "    data = {\n",
    "        \"material_id\": [doc.material_id for doc in docs],\n",
    "        \"formula\": [doc.formula_pretty for doc in docs],\n",
    "        \"band_gap\": [doc.band_gap for doc in docs],\n",
    "        \"energy_above_hull\": [doc.energy_above_hull for doc in docs]\n",
    "    }\n",
    "    df = pd.DataFrame(data)\n",
    "    \n",
    "    # Filter for thermodynamically stable materials\n",
    "    stable_df = df[df[\"energy_above_hull\"] < 0.05]\n",
    "    \n",
    "    # Display top candidates\n",
    "    print(\"Top 10 candidate materials:\")\n",
    "    print(stable_df.sort_values(\"band_gap\").head(10))"
   ]
  },
  {
   "cell_type": "code",
   "execution_count": null,
   "id": "2bcf0294-6d43-4762-a515-34d4fd5ff1bd",
   "metadata": {},
   "outputs": [],
   "source": []
  }
 ],
 "metadata": {
  "kernelspec": {
   "display_name": "Python 3 (ipykernel)",
   "language": "python",
   "name": "python3"
  },
  "language_info": {
   "codemirror_mode": {
    "name": "ipython",
    "version": 3
   },
   "file_extension": ".py",
   "mimetype": "text/x-python",
   "name": "python",
   "nbconvert_exporter": "python",
   "pygments_lexer": "ipython3",
   "version": "3.10.16"
  }
 },
 "nbformat": 4,
 "nbformat_minor": 5
}
